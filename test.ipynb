{
 "cells": [
  {
   "cell_type": "code",
   "execution_count": 1,
   "metadata": {},
   "outputs": [
    {
     "name": "stdout",
     "output_type": "stream",
     "text": [
      "reading .env file\n"
     ]
    }
   ],
   "source": [
    "import yaml\n",
    "from backorder.utils import read_yaml_file"
   ]
  },
  {
   "cell_type": "code",
   "execution_count": 2,
   "metadata": {},
   "outputs": [
    {
     "data": {
      "text/plain": [
       "{'required_columns': ['sku',\n",
       "  'national_inv',\n",
       "  'in_transit_qty',\n",
       "  'forecast_3_month',\n",
       "  'forecast_6_month',\n",
       "  'forecast_9_month',\n",
       "  'sales_1_month',\n",
       "  'sales_3_month',\n",
       "  'sales_6_month',\n",
       "  'sales_9_month',\n",
       "  'min_bank',\n",
       "  'potential_issue',\n",
       "  'pieces_past_due',\n",
       "  'perf_6_month_avg',\n",
       "  'perf_12_month_avg',\n",
       "  'local_bo_qty',\n",
       "  'deck_risk',\n",
       "  'oe_constraint',\n",
       "  'ppap_risk',\n",
       "  'stop_auto_buy',\n",
       "  'rev_stop',\n",
       "  'went_on_backorder'],\n",
       " 'drop_columns': ['lead_time'],\n",
       " 'target_column': ['went_on_backorder']}"
      ]
     },
     "execution_count": 2,
     "metadata": {},
     "output_type": "execute_result"
    }
   ],
   "source": [
    "read_yaml_file(\"schema.yaml\")"
   ]
  },
  {
   "cell_type": "code",
   "execution_count": 2,
   "metadata": {},
   "outputs": [],
   "source": [
    "import pandas as pd"
   ]
  },
  {
   "cell_type": "code",
   "execution_count": 3,
   "metadata": {},
   "outputs": [],
   "source": [
    "df = pd.read_csv(\"/config/workspace/artifact/07-08-2023_11-57-16/data_ingestion/dataset/train.csv\")"
   ]
  },
  {
   "cell_type": "code",
   "execution_count": 4,
   "metadata": {},
   "outputs": [
    {
     "data": {
      "text/plain": [
       "national_inv         0.000000\n",
       "lead_time            5.204894\n",
       "in_transit_qty       0.000000\n",
       "forecast_3_month     0.000000\n",
       "forecast_6_month     0.000000\n",
       "forecast_9_month     0.000000\n",
       "sales_1_month        0.000000\n",
       "sales_3_month        0.000000\n",
       "sales_6_month        0.000000\n",
       "sales_9_month        0.000000\n",
       "min_bank             0.000000\n",
       "potential_issue      0.000000\n",
       "pieces_past_due      0.000000\n",
       "perf_6_month_avg     0.000000\n",
       "perf_12_month_avg    0.000000\n",
       "local_bo_qty         0.000000\n",
       "deck_risk            0.000000\n",
       "oe_constraint        0.000000\n",
       "ppap_risk            0.000000\n",
       "stop_auto_buy        0.000000\n",
       "rev_stop             0.000000\n",
       "went_on_backorder    0.000000\n",
       "dtype: float64"
      ]
     },
     "execution_count": 4,
     "metadata": {},
     "output_type": "execute_result"
    }
   ],
   "source": [
    "null_report = (df.isna().sum()*100)/df.shape[0]"
   ]
  },
  {
   "cell_type": "code",
   "execution_count": 11,
   "metadata": {},
   "outputs": [
    {
     "data": {
      "text/plain": [
       "['lead_time']"
      ]
     },
     "execution_count": 11,
     "metadata": {},
     "output_type": "execute_result"
    }
   ],
   "source": [
    "list(null_report[null_report>5].index)"
   ]
  }
 ],
 "metadata": {
  "kernelspec": {
   "display_name": "Python 3.8.10 64-bit",
   "language": "python",
   "name": "python3"
  },
  "language_info": {
   "codemirror_mode": {
    "name": "ipython",
    "version": 3
   },
   "file_extension": ".py",
   "mimetype": "text/x-python",
   "name": "python",
   "nbconvert_exporter": "python",
   "pygments_lexer": "ipython3",
   "version": "3.8.10"
  },
  "orig_nbformat": 4,
  "vscode": {
   "interpreter": {
    "hash": "e7370f93d1d0cde622a1f8e1c04877d8463912d04d973331ad4851f04de6915a"
   }
  }
 },
 "nbformat": 4,
 "nbformat_minor": 2
}
